{
 "cells": [
  {
   "cell_type": "code",
   "execution_count": null,
   "metadata": {},
   "outputs": [],
   "source": [
    "from rembg import remove\n",
    "from PIL import Image\n",
    "import io\n",
    "\n",
    "# Membaca gambar\n",
    "with open(\"./image.png\", \"rb\") as file:\n",
    "    input_image = file.read()\n",
    "\n",
    "# Menghapus latar belakang\n",
    "output_image = remove(input_image)\n",
    "\n",
    "# Menyimpan hasil\n",
    "with open(\"output.png\", \"wb\") as file:\n",
    "    file.write(output_image)\n",
    "\n",
    "print(\"Gambar telah selesai di remove background\")"
   ]
  },
  {
   "cell_type": "code",
   "execution_count": null,
   "metadata": {},
   "outputs": [],
   "source": []
  }
 ],
 "metadata": {
  "kernelspec": {
   "display_name": "Python 3",
   "language": "python",
   "name": "python3"
  },
  "language_info": {
   "codemirror_mode": {
    "name": "ipython",
    "version": 3
   },
   "file_extension": ".py",
   "mimetype": "text/x-python",
   "name": "python",
   "nbconvert_exporter": "python",
   "pygments_lexer": "ipython3",
   "version": "3.11.5"
  }
 },
 "nbformat": 4,
 "nbformat_minor": 2
}
